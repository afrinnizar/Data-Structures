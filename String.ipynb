{
 "cells": [
  {
   "cell_type": "code",
   "execution_count": 5,
   "id": "0d1bc39d-6cd7-40c6-a1f3-de6e245e2e41",
   "metadata": {},
   "outputs": [],
   "source": [
    "#String with single quotes\n",
    "s1='Hello'"
   ]
  },
  {
   "cell_type": "code",
   "execution_count": 6,
   "id": "699c6f07-3d55-49c1-9da5-679ba9e8e642",
   "metadata": {},
   "outputs": [
    {
     "data": {
      "text/plain": [
       "str"
      ]
     },
     "execution_count": 6,
     "metadata": {},
     "output_type": "execute_result"
    }
   ],
   "source": [
    "#Checking the type\n",
    "type(s1)\n"
   ]
  },
  {
   "cell_type": "code",
   "execution_count": 7,
   "id": "9bc18aeb-b73a-4f1e-9692-06a92f6c341f",
   "metadata": {},
   "outputs": [
    {
     "data": {
      "text/plain": [
       "str"
      ]
     },
     "execution_count": 7,
     "metadata": {},
     "output_type": "execute_result"
    }
   ],
   "source": [
    "#String with double quotes\n",
    "s2=\"World\"\n",
    "type(s2)"
   ]
  },
  {
   "cell_type": "code",
   "execution_count": 8,
   "id": "67e45bb6-47ab-4d7c-8d8d-db8a52e97992",
   "metadata": {},
   "outputs": [
    {
     "data": {
      "text/plain": [
       "str"
      ]
     },
     "execution_count": 8,
     "metadata": {},
     "output_type": "execute_result"
    }
   ],
   "source": [
    "#String with triple quotes (multi-line string)\n",
    "s3='''Python is a\n",
    "programming language'''\n",
    "type(s3)"
   ]
  },
  {
   "cell_type": "code",
   "execution_count": 9,
   "id": "68352064-2072-41d2-a7b7-154f2bb5a245",
   "metadata": {},
   "outputs": [
    {
     "data": {
      "text/plain": [
       "'HelloWorld'"
      ]
     },
     "execution_count": 9,
     "metadata": {},
     "output_type": "execute_result"
    }
   ],
   "source": [
    "#Concantination\n",
    "s3=s1+s2\n",
    "s3"
   ]
  },
  {
   "cell_type": "code",
   "execution_count": 10,
   "id": "807c7629-604e-4bee-b28d-a5891a8049b9",
   "metadata": {},
   "outputs": [
    {
     "data": {
      "text/plain": [
       "'Hello World'"
      ]
     },
     "execution_count": 10,
     "metadata": {},
     "output_type": "execute_result"
    }
   ],
   "source": [
    "#Adding space in between s1 and s2\n",
    "s5=s1+' '+s2\n",
    "s5\n"
   ]
  },
  {
   "cell_type": "code",
   "execution_count": 11,
   "id": "7e0dadd8-913f-409f-b425-e262e9bce373",
   "metadata": {},
   "outputs": [
    {
     "data": {
      "text/plain": [
       "11"
      ]
     },
     "execution_count": 11,
     "metadata": {},
     "output_type": "execute_result"
    }
   ],
   "source": [
    "#Determining the length of s5\n",
    "len(s5)"
   ]
  },
  {
   "cell_type": "code",
   "execution_count": 12,
   "id": "abf8e189-0481-43f8-9bb7-fdcd4b0a5888",
   "metadata": {},
   "outputs": [
    {
     "data": {
      "text/plain": [
       "'H'"
      ]
     },
     "execution_count": 12,
     "metadata": {},
     "output_type": "execute_result"
    }
   ],
   "source": [
    "#Accessing the characters via Indexing\n",
    "s5[0]"
   ]
  },
  {
   "cell_type": "code",
   "execution_count": 13,
   "id": "705251a2-72ed-421b-bc6c-a1563cee887c",
   "metadata": {},
   "outputs": [
    {
     "data": {
      "text/plain": [
       "'d'"
      ]
     },
     "execution_count": 13,
     "metadata": {},
     "output_type": "execute_result"
    }
   ],
   "source": [
    "s5[10]"
   ]
  },
  {
   "cell_type": "code",
   "execution_count": 14,
   "id": "52b6168e-949a-4a53-bc71-7e1979d4a785",
   "metadata": {},
   "outputs": [
    {
     "data": {
      "text/plain": [
       "'llo Wo'"
      ]
     },
     "execution_count": 14,
     "metadata": {},
     "output_type": "execute_result"
    }
   ],
   "source": [
    "#Slicing a String\n",
    "s5[2:8]"
   ]
  },
  {
   "cell_type": "code",
   "execution_count": 15,
   "id": "840f68a4-8cb1-48af-a648-22cac1a8999f",
   "metadata": {},
   "outputs": [
    {
     "data": {
      "text/plain": [
       "'Hello WorldHello WorldHello World'"
      ]
     },
     "execution_count": 15,
     "metadata": {},
     "output_type": "execute_result"
    }
   ],
   "source": [
    "#Duplication of String\n",
    "s5*3\n"
   ]
  },
  {
   "cell_type": "code",
   "execution_count": 16,
   "id": "96c71cf4-ef96-498e-b8a1-b5fd2cbfa250",
   "metadata": {},
   "outputs": [
    {
     "data": {
      "text/plain": [
       "True"
      ]
     },
     "execution_count": 16,
     "metadata": {},
     "output_type": "execute_result"
    }
   ],
   "source": [
    "#Checking substring in mainstring\n",
    "'World' in s5"
   ]
  },
  {
   "cell_type": "code",
   "execution_count": 18,
   "id": "a1aacac8-073f-4395-939c-a3fbae55512c",
   "metadata": {},
   "outputs": [
    {
     "data": {
      "text/plain": [
       "False"
      ]
     },
     "execution_count": 18,
     "metadata": {},
     "output_type": "execute_result"
    }
   ],
   "source": [
    "'afrin' in s5"
   ]
  },
  {
   "cell_type": "code",
   "execution_count": 19,
   "id": "608c94d8-068b-401a-a579-3e5bef8c3a48",
   "metadata": {},
   "outputs": [
    {
     "data": {
      "text/plain": [
       "False"
      ]
     },
     "execution_count": 19,
     "metadata": {},
     "output_type": "execute_result"
    }
   ],
   "source": [
    "'World' not in s5"
   ]
  },
  {
   "cell_type": "code",
   "execution_count": 20,
   "id": "3956019d-dc87-4954-970f-2aa165322831",
   "metadata": {},
   "outputs": [
    {
     "data": {
      "text/plain": [
       "'HELLO WORLD'"
      ]
     },
     "execution_count": 20,
     "metadata": {},
     "output_type": "execute_result"
    }
   ],
   "source": [
    "#Changing to UPPERCASE\n",
    "s5.upper()"
   ]
  },
  {
   "cell_type": "code",
   "execution_count": 21,
   "id": "a3525859-e483-4d92-a790-44052321b437",
   "metadata": {},
   "outputs": [
    {
     "data": {
      "text/plain": [
       "'hello world'"
      ]
     },
     "execution_count": 21,
     "metadata": {},
     "output_type": "execute_result"
    }
   ],
   "source": [
    "#Changing to LOWERCASE\n",
    "s5.lower()"
   ]
  },
  {
   "cell_type": "code",
   "execution_count": 22,
   "id": "5993b516-afd1-4c55-8003-439713f623c9",
   "metadata": {},
   "outputs": [
    {
     "data": {
      "text/plain": [
       "'Hello world'"
      ]
     },
     "execution_count": 22,
     "metadata": {},
     "output_type": "execute_result"
    }
   ],
   "source": [
    "#Changing to UPPERCASE using the function capitalize\n",
    "s5.capitalize()\n"
   ]
  },
  {
   "cell_type": "code",
   "execution_count": 23,
   "id": "1710e98e-12e9-4a1b-92dc-373a030b47eb",
   "metadata": {},
   "outputs": [
    {
     "data": {
      "text/plain": [
       "'Hello World'"
      ]
     },
     "execution_count": 23,
     "metadata": {},
     "output_type": "execute_result"
    }
   ],
   "source": [
    "#Changing the case using the function title\n",
    "s5.title()"
   ]
  },
  {
   "cell_type": "code",
   "execution_count": 24,
   "id": "dd707088-14bc-4bd8-94f8-eb4595f2a73a",
   "metadata": {},
   "outputs": [
    {
     "data": {
      "text/plain": [
       "'Hello Python'"
      ]
     },
     "execution_count": 24,
     "metadata": {},
     "output_type": "execute_result"
    }
   ],
   "source": [
    "#Replacing a word using replace function\n",
    "s5.replace('World','Python')\n"
   ]
  },
  {
   "cell_type": "code",
   "execution_count": null,
   "id": "e6cb0479-431a-4024-beab-d92ae4a9cbda",
   "metadata": {},
   "outputs": [],
   "source": []
  }
 ],
 "metadata": {
  "kernelspec": {
   "display_name": "Python 3 (ipykernel)",
   "language": "python",
   "name": "python3"
  },
  "language_info": {
   "codemirror_mode": {
    "name": "ipython",
    "version": 3
   },
   "file_extension": ".py",
   "mimetype": "text/x-python",
   "name": "python",
   "nbconvert_exporter": "python",
   "pygments_lexer": "ipython3",
   "version": "3.13.5"
  }
 },
 "nbformat": 4,
 "nbformat_minor": 5
}
