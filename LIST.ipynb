{
 "cells": [
  {
   "cell_type": "code",
   "execution_count": 1,
   "id": "7cb7f64c-149c-48c7-bb75-b2d94cc9d613",
   "metadata": {},
   "outputs": [
    {
     "name": "stdout",
     "output_type": "stream",
     "text": [
      "hellow world\n"
     ]
    }
   ],
   "source": [
    "print(\"hellow world\")"
   ]
  },
  {
   "cell_type": "code",
   "execution_count": 2,
   "id": "b76eca8c-84f5-4212-b0d6-63a23f972ee9",
   "metadata": {},
   "outputs": [],
   "source": [
    "a=[1,2,3,4]"
   ]
  },
  {
   "cell_type": "code",
   "execution_count": 3,
   "id": "910f128b-1831-48a5-9ef2-7af5fc0e9df3",
   "metadata": {},
   "outputs": [
    {
     "data": {
      "text/plain": [
       "[1, 2, 3, 4]"
      ]
     },
     "execution_count": 3,
     "metadata": {},
     "output_type": "execute_result"
    }
   ],
   "source": [
    "a"
   ]
  },
  {
   "cell_type": "code",
   "execution_count": 4,
   "id": "89f47636-fcb5-46cf-ad8c-271143cccbe2",
   "metadata": {},
   "outputs": [
    {
     "name": "stdout",
     "output_type": "stream",
     "text": [
      "<class 'list'>\n"
     ]
    }
   ],
   "source": [
    "print(type(a))"
   ]
  },
  {
   "cell_type": "code",
   "execution_count": 5,
   "id": "621a1a30-3388-484c-b44d-aa70b8b5fe9d",
   "metadata": {},
   "outputs": [
    {
     "data": {
      "text/plain": [
       "[25, 'Hello World', True, 15.6]"
      ]
     },
     "execution_count": 5,
     "metadata": {},
     "output_type": "execute_result"
    }
   ],
   "source": [
    "b=[25,'Hello World',True,15.6]\n",
    "b"
   ]
  },
  {
   "cell_type": "code",
   "execution_count": 6,
   "id": "92cddd37-22fe-4f8d-a619-89a74031c654",
   "metadata": {},
   "outputs": [
    {
     "data": {
      "text/plain": [
       "list"
      ]
     },
     "execution_count": 6,
     "metadata": {},
     "output_type": "execute_result"
    }
   ],
   "source": [
    "type(b)"
   ]
  },
  {
   "cell_type": "code",
   "execution_count": 7,
   "id": "c2e3137d-5c15-40ba-953a-d65386ba90ae",
   "metadata": {},
   "outputs": [
    {
     "data": {
      "text/plain": [
       "['Apple', 'Banana', 'Orange', 'Mango']"
      ]
     },
     "execution_count": 7,
     "metadata": {},
     "output_type": "execute_result"
    }
   ],
   "source": [
    "c=['Apple','Banana','Orange','Mango']\n",
    "c"
   ]
  },
  {
   "cell_type": "code",
   "execution_count": 8,
   "id": "0d555163-0395-437b-b6f8-be97b9a6d548",
   "metadata": {},
   "outputs": [
    {
     "data": {
      "text/plain": [
       "[1.1, 2.2, 3.3, 4.4, 5.5]"
      ]
     },
     "execution_count": 8,
     "metadata": {},
     "output_type": "execute_result"
    }
   ],
   "source": [
    "d=[1.1,2.2,3.3,4.4,5.5]\n",
    "d"
   ]
  },
  {
   "cell_type": "code",
   "execution_count": 10,
   "id": "e8b8e7f6-3bd6-4b07-a01e-2131da0ad184",
   "metadata": {},
   "outputs": [
    {
     "data": {
      "text/plain": [
       "list"
      ]
     },
     "execution_count": 10,
     "metadata": {},
     "output_type": "execute_result"
    }
   ],
   "source": [
    "type(d)"
   ]
  },
  {
   "cell_type": "code",
   "execution_count": 11,
   "id": "50687754-b06c-4050-a7b1-4d7e8429a224",
   "metadata": {},
   "outputs": [
    {
     "data": {
      "text/plain": [
       "list"
      ]
     },
     "execution_count": 11,
     "metadata": {},
     "output_type": "execute_result"
    }
   ],
   "source": [
    "e=[True,False]\n",
    "e\n",
    "type(e)"
   ]
  },
  {
   "cell_type": "code",
   "execution_count": 12,
   "id": "2d841f4f-17d8-4dad-ac2c-3843b4ed0c68",
   "metadata": {},
   "outputs": [
    {
     "name": "stdout",
     "output_type": "stream",
     "text": [
      "<class 'list'>\n"
     ]
    },
    {
     "data": {
      "text/plain": [
       "[1, 'Orange', 25.5, True, 'Apple', 'List', 56, 'Hello World', 2, 10.0]"
      ]
     },
     "execution_count": 12,
     "metadata": {},
     "output_type": "execute_result"
    }
   ],
   "source": [
    "#List Creation\n",
    "L1=[1,'Orange',25.5,True,'Apple','List',56,\"Hello World\",2,10.0]\n",
    "print(type(L1))\n",
    "L1"
   ]
  },
  {
   "cell_type": "code",
   "execution_count": 13,
   "id": "23b3487c-07a8-4f51-b794-ffad16c7a259",
   "metadata": {},
   "outputs": [
    {
     "data": {
      "text/plain": [
       "10"
      ]
     },
     "execution_count": 13,
     "metadata": {},
     "output_type": "execute_result"
    }
   ],
   "source": [
    "#Length of a list\n",
    "len(L1)"
   ]
  },
  {
   "cell_type": "code",
   "execution_count": 14,
   "id": "eba971e1-caf7-4053-ae27-e7d74caaceef",
   "metadata": {},
   "outputs": [
    {
     "data": {
      "text/plain": [
       "1"
      ]
     },
     "execution_count": 14,
     "metadata": {},
     "output_type": "execute_result"
    }
   ],
   "source": [
    "#Indexing of a List\n",
    "L1[0]\n"
   ]
  },
  {
   "cell_type": "code",
   "execution_count": 15,
   "id": "d255caa2-1377-4e13-bad0-b55c293ad8e5",
   "metadata": {},
   "outputs": [
    {
     "data": {
      "text/plain": [
       "10.0"
      ]
     },
     "execution_count": 15,
     "metadata": {},
     "output_type": "execute_result"
    }
   ],
   "source": [
    "L1[9]"
   ]
  },
  {
   "cell_type": "code",
   "execution_count": 16,
   "id": "a5b55f3c-bd18-49a3-a56b-33f21eb37d4f",
   "metadata": {},
   "outputs": [
    {
     "data": {
      "text/plain": [
       "[10.0, 2, 'Hello World', 56, 'List', 'Apple', True, 25.5, 'Orange', 1]"
      ]
     },
     "execution_count": 16,
     "metadata": {},
     "output_type": "execute_result"
    }
   ],
   "source": [
    "#Reversing a List\n",
    "L1[::-1]"
   ]
  },
  {
   "cell_type": "code",
   "execution_count": 17,
   "id": "b39ecc16-cb89-454e-9051-9a9764f11f5e",
   "metadata": {},
   "outputs": [
    {
     "data": {
      "text/plain": [
       "10.0"
      ]
     },
     "execution_count": 17,
     "metadata": {},
     "output_type": "execute_result"
    }
   ],
   "source": [
    "#Last number of a List\n",
    "L1[-1]"
   ]
  },
  {
   "cell_type": "code",
   "execution_count": 18,
   "id": "83e0f024-f833-4d78-b714-9f07931e0b32",
   "metadata": {},
   "outputs": [
    {
     "data": {
      "text/plain": [
       "[25.5, True, 'Apple', 'List']"
      ]
     },
     "execution_count": 18,
     "metadata": {},
     "output_type": "execute_result"
    }
   ],
   "source": [
    "#Slicing\n",
    "L1[2:6]\n"
   ]
  },
  {
   "cell_type": "code",
   "execution_count": 19,
   "id": "76484dda-29e0-46be-bae1-1f03a83e5e6b",
   "metadata": {},
   "outputs": [
    {
     "data": {
      "text/plain": [
       "[1, 'Orange', 25.5, True, 'Apple', 'List', 56, 'Hello World', 2, 10.0, 6]"
      ]
     },
     "execution_count": 19,
     "metadata": {},
     "output_type": "execute_result"
    }
   ],
   "source": [
    "#Appending a List\n",
    "L1.append(6)\n",
    "L1"
   ]
  },
  {
   "cell_type": "code",
   "execution_count": 20,
   "id": "7336303d-c311-44cc-b2fa-af429ce813a9",
   "metadata": {},
   "outputs": [],
   "source": [
    "#Insertion of List\n",
    "L1.insert(0,8)"
   ]
  },
  {
   "cell_type": "code",
   "execution_count": 21,
   "id": "ae36b8b5-99ca-42c2-8b6b-45d3d00401fc",
   "metadata": {},
   "outputs": [
    {
     "data": {
      "text/plain": [
       "[8, 1, 'Orange', 25.5, True, 'Apple', 'List', 56, 'Hello World', 2, 10.0, 6]"
      ]
     },
     "execution_count": 21,
     "metadata": {},
     "output_type": "execute_result"
    }
   ],
   "source": [
    "L1"
   ]
  },
  {
   "cell_type": "code",
   "execution_count": 22,
   "id": "566effce-c32e-4b68-83a2-76d574788756",
   "metadata": {},
   "outputs": [
    {
     "data": {
      "text/plain": [
       "[8,\n",
       " 1,\n",
       " 'Orange',\n",
       " 25.5,\n",
       " True,\n",
       " 12,\n",
       " 'Apple',\n",
       " 'List',\n",
       " 56,\n",
       " 'Hello World',\n",
       " 2,\n",
       " 10.0,\n",
       " 6]"
      ]
     },
     "execution_count": 22,
     "metadata": {},
     "output_type": "execute_result"
    }
   ],
   "source": [
    "L1.insert(5,12)\n",
    "L1\n"
   ]
  },
  {
   "cell_type": "code",
   "execution_count": 23,
   "id": "2c86506d-3f30-4f1f-90da-cd776e0161bb",
   "metadata": {},
   "outputs": [
    {
     "data": {
      "text/plain": [
       "list"
      ]
     },
     "execution_count": 23,
     "metadata": {},
     "output_type": "execute_result"
    }
   ],
   "source": [
    "type(L1)"
   ]
  },
  {
   "cell_type": "code",
   "execution_count": 24,
   "id": "f39996d2-d89c-41ac-b5fb-6773aeab2631",
   "metadata": {},
   "outputs": [
    {
     "data": {
      "text/plain": [
       "[8, 1, 'Orange', 25.5, True, 'Apple', 'List', 56, 'Hello World', 2, 10.0, 6]"
      ]
     },
     "execution_count": 24,
     "metadata": {},
     "output_type": "execute_result"
    }
   ],
   "source": [
    "#Deletion of elements in a List\n",
    "L1.remove(12)\n",
    "L1\n"
   ]
  },
  {
   "cell_type": "code",
   "execution_count": 25,
   "id": "b2202388-890a-4863-808a-9a56cc6cab88",
   "metadata": {},
   "outputs": [],
   "source": [
    "L1.append(6)"
   ]
  },
  {
   "cell_type": "code",
   "execution_count": 26,
   "id": "26235ed3-e9ef-4b39-995b-7abc7a561778",
   "metadata": {},
   "outputs": [
    {
     "data": {
      "text/plain": [
       "[8, 1, 'Orange', 25.5, True, 'Apple', 'List', 56, 'Hello World', 2, 10.0, 6]"
      ]
     },
     "execution_count": 26,
     "metadata": {},
     "output_type": "execute_result"
    }
   ],
   "source": [
    "L1.remove(6)\n",
    "L1"
   ]
  },
  {
   "cell_type": "code",
   "execution_count": 27,
   "id": "0f4b7f50-7fb1-4466-b788-97ba7d321c43",
   "metadata": {},
   "outputs": [],
   "source": [
    "#Deletion of specific value using del function\n",
    "del L1[1]"
   ]
  },
  {
   "cell_type": "code",
   "execution_count": 28,
   "id": "c59233a8-df38-4106-b310-0f40e850facf",
   "metadata": {},
   "outputs": [
    {
     "data": {
      "text/plain": [
       "[8, 'Orange', 25.5, True, 'Apple', 'List', 56, 'Hello World', 2, 10.0, 6]"
      ]
     },
     "execution_count": 28,
     "metadata": {},
     "output_type": "execute_result"
    }
   ],
   "source": [
    "L1"
   ]
  },
  {
   "cell_type": "code",
   "execution_count": null,
   "id": "87ddf768-20ca-4906-abaf-cc73618b8084",
   "metadata": {},
   "outputs": [],
   "source": []
  }
 ],
 "metadata": {
  "kernelspec": {
   "display_name": "Python 3 (ipykernel)",
   "language": "python",
   "name": "python3"
  },
  "language_info": {
   "codemirror_mode": {
    "name": "ipython",
    "version": 3
   },
   "file_extension": ".py",
   "mimetype": "text/x-python",
   "name": "python",
   "nbconvert_exporter": "python",
   "pygments_lexer": "ipython3",
   "version": "3.13.5"
  }
 },
 "nbformat": 4,
 "nbformat_minor": 5
}
