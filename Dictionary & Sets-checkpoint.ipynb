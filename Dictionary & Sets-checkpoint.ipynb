{
 "cells": [
  {
   "cell_type": "code",
   "execution_count": 3,
   "id": "4bd8d1c1-da5c-45db-b18c-c1914e902ace",
   "metadata": {},
   "outputs": [
    {
     "data": {
      "text/plain": [
       "dict"
      ]
     },
     "execution_count": 3,
     "metadata": {},
     "output_type": "execute_result"
    }
   ],
   "source": [
    "#Creating an empty dict and checking the type\n",
    "d1={ }\n",
    "type(d1)"
   ]
  },
  {
   "cell_type": "code",
   "execution_count": 13,
   "id": "3a23ebdf-1d0e-485b-a06b-ea262fc7abd2",
   "metadata": {},
   "outputs": [
    {
     "data": {
      "text/plain": [
       "({'Name': 'afrin', 'Age': 18, 'City': 'TRV'}, dict)"
      ]
     },
     "execution_count": 13,
     "metadata": {},
     "output_type": "execute_result"
    }
   ],
   "source": [
    "d2={'Name':'afrin','Age':18,'City':'TRV'}\n",
    "d2,type(d2)"
   ]
  },
  {
   "cell_type": "code",
   "execution_count": 16,
   "id": "c9d88260-3ec0-42e4-93f6-035f84cc9a02",
   "metadata": {},
   "outputs": [
    {
     "data": {
      "text/plain": [
       "{'Name': 'afrin', 'Age': 18, 'City': 'TRV', 'ph no': '7907030517'}"
      ]
     },
     "execution_count": 16,
     "metadata": {},
     "output_type": "execute_result"
    }
   ],
   "source": [
    "#Adding quotes if number exceeds 9 digits(BIGINT)\n",
    "person={'Name':'afrin','Age':18,'City':'TRV','ph no':'7907030517'}\n",
    "person"
   ]
  },
  {
   "cell_type": "code",
   "execution_count": 17,
   "id": "70f59e0b-e6c2-4cab-a68b-0745122a5694",
   "metadata": {},
   "outputs": [],
   "source": [
    "#Added a new key value pair\n",
    "person['Salary']=101010"
   ]
  },
  {
   "cell_type": "code",
   "execution_count": 18,
   "id": "8c7ae2a1-f822-4262-aec4-cf96c6dcc1f1",
   "metadata": {},
   "outputs": [
    {
     "data": {
      "text/plain": [
       "{'Name': 'afrin',\n",
       " 'Age': 18,\n",
       " 'City': 'TRV',\n",
       " 'ph no': '7907030517',\n",
       " 'Salary': 101010}"
      ]
     },
     "execution_count": 18,
     "metadata": {},
     "output_type": "execute_result"
    }
   ],
   "source": [
    "person"
   ]
  },
  {
   "cell_type": "code",
   "execution_count": 19,
   "id": "9a235fb4-7f2a-4c46-a36f-099fa4cd504c",
   "metadata": {},
   "outputs": [],
   "source": [
    "#Keys are unique\n",
    "person['Name']='Anu'"
   ]
  },
  {
   "cell_type": "code",
   "execution_count": 11,
   "id": "25da8815-afad-4656-96aa-91d37b960369",
   "metadata": {},
   "outputs": [
    {
     "data": {
      "text/plain": [
       "{'Name': 'Anu',\n",
       " 'Age': 18,\n",
       " 'City': 'TRV',\n",
       " 'ph no': '9876543210',\n",
       " 'Salary': 101010}"
      ]
     },
     "execution_count": 11,
     "metadata": {},
     "output_type": "execute_result"
    }
   ],
   "source": [
    "person"
   ]
  },
  {
   "cell_type": "code",
   "execution_count": 20,
   "id": "4d8465b2-267b-4632-aa2e-c138a36d3160",
   "metadata": {},
   "outputs": [],
   "source": [
    "person['name']='afrin'"
   ]
  },
  {
   "cell_type": "code",
   "execution_count": 21,
   "id": "eee09dd5-566a-4117-8ee9-1b967fa46eca",
   "metadata": {},
   "outputs": [],
   "source": [
    "#Deletion of an element\n",
    "del person['name']"
   ]
  },
  {
   "cell_type": "code",
   "execution_count": 22,
   "id": "17f5a95d-fe4a-4b1c-93a3-e7bc9f5d1d33",
   "metadata": {},
   "outputs": [
    {
     "data": {
      "text/plain": [
       "{'Name': 'Anu',\n",
       " 'Age': 18,\n",
       " 'City': 'TRV',\n",
       " 'ph no': '7907030517',\n",
       " 'Salary': 101010}"
      ]
     },
     "execution_count": 22,
     "metadata": {},
     "output_type": "execute_result"
    }
   ],
   "source": [
    "person"
   ]
  },
  {
   "cell_type": "code",
   "execution_count": 23,
   "id": "58f102da-2e25-4e3e-9f42-cee8bcb5e108",
   "metadata": {},
   "outputs": [
    {
     "data": {
      "text/plain": [
       "'Anu'"
      ]
     },
     "execution_count": 23,
     "metadata": {},
     "output_type": "execute_result"
    }
   ],
   "source": [
    "#Accessing a value via key\n",
    "person['Name']"
   ]
  },
  {
   "cell_type": "code",
   "execution_count": 24,
   "id": "a9e2346e-e52d-424e-8065-f3a211a09fe3",
   "metadata": {},
   "outputs": [
    {
     "data": {
      "text/plain": [
       "5"
      ]
     },
     "execution_count": 24,
     "metadata": {},
     "output_type": "execute_result"
    }
   ],
   "source": [
    "#Length of a dictionary\n",
    "len(person)\n"
   ]
  },
  {
   "cell_type": "code",
   "execution_count": 25,
   "id": "f697ea82-58a1-45cc-b9ae-d731e4d7013e",
   "metadata": {},
   "outputs": [
    {
     "data": {
      "text/plain": [
       "dict_keys(['Name', 'Age', 'City', 'ph no', 'Salary'])"
      ]
     },
     "execution_count": 25,
     "metadata": {},
     "output_type": "execute_result"
    }
   ],
   "source": [
    "#Accessing keys\n",
    "person.keys()\n"
   ]
  },
  {
   "cell_type": "code",
   "execution_count": 26,
   "id": "1191703d-9cc1-4471-8ad5-20703cb2797f",
   "metadata": {},
   "outputs": [
    {
     "data": {
      "text/plain": [
       "dict_values(['Anu', 18, 'TRV', '7907030517', 101010])"
      ]
     },
     "execution_count": 26,
     "metadata": {},
     "output_type": "execute_result"
    }
   ],
   "source": [
    "#Accessing values\n",
    "person.values()\n"
   ]
  },
  {
   "cell_type": "code",
   "execution_count": 27,
   "id": "df8f88b7-fc3f-41ac-add5-08ad19b54525",
   "metadata": {},
   "outputs": [
    {
     "data": {
      "text/plain": [
       "dict_items([('Name', 'Anu'), ('Age', 18), ('City', 'TRV'), ('ph no', '7907030517'), ('Salary', 101010)])"
      ]
     },
     "execution_count": 27,
     "metadata": {},
     "output_type": "execute_result"
    }
   ],
   "source": [
    "#To dislpay all the items\n",
    "person.items()"
   ]
  },
  {
   "cell_type": "code",
   "execution_count": 28,
   "id": "4d36371a-1530-4c21-a60b-4b500d736aaa",
   "metadata": {},
   "outputs": [
    {
     "data": {
      "text/plain": [
       "{1, 2, 3, 4, 5, 6}"
      ]
     },
     "execution_count": 28,
     "metadata": {},
     "output_type": "execute_result"
    }
   ],
   "source": [
    "#Creating a set\n",
    "s1={1,2,3,4,5,1,6,}\n",
    "s1"
   ]
  },
  {
   "cell_type": "code",
   "execution_count": 29,
   "id": "ad24d462-e196-49ba-a301-2e13fee95e20",
   "metadata": {},
   "outputs": [
    {
     "data": {
      "text/plain": [
       "set"
      ]
     },
     "execution_count": 29,
     "metadata": {},
     "output_type": "execute_result"
    }
   ],
   "source": [
    "#Checking the type\n",
    "type(s1)"
   ]
  },
  {
   "cell_type": "code",
   "execution_count": 30,
   "id": "a74477fa-6855-4fc5-9387-ba4eb49e8bfd",
   "metadata": {},
   "outputs": [
    {
     "data": {
      "text/plain": [
       "{1, 2, 4, 5, 6, 7, 8, 9}"
      ]
     },
     "execution_count": 30,
     "metadata": {},
     "output_type": "execute_result"
    }
   ],
   "source": [
    "#Another way to create set\n",
    "s2=set([1,2,6,7,8,9,5,4,5,2,1,6])\n",
    "s2"
   ]
  },
  {
   "cell_type": "code",
   "execution_count": 31,
   "id": "6511bad9-ac38-495f-9ade-275b8a7c0bc3",
   "metadata": {},
   "outputs": [],
   "source": [
    "#Adding an element\n",
    "s1.add(9)"
   ]
  },
  {
   "cell_type": "code",
   "execution_count": 32,
   "id": "fd377fc4-dca8-405b-a08a-cf832dadc5cd",
   "metadata": {},
   "outputs": [
    {
     "data": {
      "text/plain": [
       "{1, 2, 3, 4, 5, 6, 9}"
      ]
     },
     "execution_count": 32,
     "metadata": {},
     "output_type": "execute_result"
    }
   ],
   "source": [
    "s1"
   ]
  },
  {
   "cell_type": "code",
   "execution_count": 33,
   "id": "ad17dc52-3398-41c2-8e9b-4f5a1e159758",
   "metadata": {},
   "outputs": [],
   "source": [
    "#Removing an element\n",
    "s1.remove(2)"
   ]
  },
  {
   "cell_type": "code",
   "execution_count": 34,
   "id": "319a8615-2ff1-4722-b37d-9273d84ae6d0",
   "metadata": {},
   "outputs": [
    {
     "data": {
      "text/plain": [
       "{1, 3, 4, 5, 6, 9}"
      ]
     },
     "execution_count": 34,
     "metadata": {},
     "output_type": "execute_result"
    }
   ],
   "source": [
    "s1"
   ]
  },
  {
   "cell_type": "code",
   "execution_count": 35,
   "id": "e031c454-f77e-43f0-841a-47b9c0360784",
   "metadata": {},
   "outputs": [
    {
     "data": {
      "text/plain": [
       "set()"
      ]
     },
     "execution_count": 35,
     "metadata": {},
     "output_type": "execute_result"
    }
   ],
   "source": [
    "#Emptying set\n",
    "s1.clear()\n",
    "s1"
   ]
  },
  {
   "cell_type": "code",
   "execution_count": 36,
   "id": "90875e6b-32c0-4bff-84c1-5231871d5e25",
   "metadata": {},
   "outputs": [
    {
     "data": {
      "text/plain": [
       "8"
      ]
     },
     "execution_count": 36,
     "metadata": {},
     "output_type": "execute_result"
    }
   ],
   "source": [
    "#Length of a set\n",
    "len(s2)"
   ]
  },
  {
   "cell_type": "code",
   "execution_count": 37,
   "id": "1eb8b508-31e7-44a2-8649-2b720a1037ba",
   "metadata": {},
   "outputs": [
    {
     "data": {
      "text/plain": [
       "{0, 1, 2, 3, 4, 5, 6, 7, 8, 9, 11, 13}"
      ]
     },
     "execution_count": 37,
     "metadata": {},
     "output_type": "execute_result"
    }
   ],
   "source": [
    "#Union Operation (All the common elements in both sets)\n",
    "s3={1,1,2,3,5,4,5,6,7,8,9,0}\n",
    "s4={1,3,5,7,11,13}\n",
    "s3|s4 #or s3.union(s4)"
   ]
  },
  {
   "cell_type": "code",
   "execution_count": 38,
   "id": "70e99955-d6fe-491c-af42-e0548367cb58",
   "metadata": {},
   "outputs": [
    {
     "data": {
      "text/plain": [
       "{1, 3, 5, 7}"
      ]
     },
     "execution_count": 38,
     "metadata": {},
     "output_type": "execute_result"
    }
   ],
   "source": [
    "#Intersection Operation (Displays only the common elements)\n",
    "s3&s4 #or s3.intersection(s4)"
   ]
  },
  {
   "cell_type": "code",
   "execution_count": 39,
   "id": "54f5898c-5814-4547-b5d8-7b183e557e6a",
   "metadata": {},
   "outputs": [
    {
     "data": {
      "text/plain": [
       "{0, 2, 4, 6, 8, 9}"
      ]
     },
     "execution_count": 39,
     "metadata": {},
     "output_type": "execute_result"
    }
   ],
   "source": [
    "#Difference Operation\n",
    "s3-s4"
   ]
  },
  {
   "cell_type": "code",
   "execution_count": 40,
   "id": "ae4d19b5-269d-4fe8-a1fa-ced1ddff9140",
   "metadata": {},
   "outputs": [
    {
     "data": {
      "text/plain": [
       "{11, 13}"
      ]
     },
     "execution_count": 40,
     "metadata": {},
     "output_type": "execute_result"
    }
   ],
   "source": [
    "s4-s3"
   ]
  },
  {
   "cell_type": "code",
   "execution_count": null,
   "id": "ecf117c0-7890-440d-8a2b-a343c34c424f",
   "metadata": {},
   "outputs": [],
   "source": []
  }
 ],
 "metadata": {
  "kernelspec": {
   "display_name": "Python 3 (ipykernel)",
   "language": "python",
   "name": "python3"
  },
  "language_info": {
   "codemirror_mode": {
    "name": "ipython",
    "version": 3
   },
   "file_extension": ".py",
   "mimetype": "text/x-python",
   "name": "python",
   "nbconvert_exporter": "python",
   "pygments_lexer": "ipython3",
   "version": "3.13.5"
  }
 },
 "nbformat": 4,
 "nbformat_minor": 5
}
